{
 "cells": [
  {
   "cell_type": "code",
   "execution_count": 7,
   "id": "53b8ae5f-3c41-4d55-8212-7744955384c6",
   "metadata": {},
   "outputs": [],
   "source": [
    "import numpy as np\n",
    "import matplotlib.pyplot as plt"
   ]
  },
  {
   "cell_type": "markdown",
   "id": "2a985909-1c4c-4004-b74a-0fec52c0586e",
   "metadata": {},
   "source": [
    "# Theory of Bézier Curves\n",
    "\n",
    "A Bézier curve is a parametric curve frequently used in computer graphics and related fields. The curve is defined by a set of control points. The polynomial degree of the Bézier curve is determined by the number of control points. For example, a Bézier curve defined by two control points is linear, by three control points is quadratic, and by four control points is cubic.\n",
    "\n",
    "The mathematical definition of a Bézier curve of degree \\( n \\) is:\n",
    "\n",
    "$$\n",
    "B(t) = \\sum_{i=0}^{n} \\binom{n}{i} (1 - t)^{n - i} t^i P_i \\quad \\text{for } 0 \\leq t \\leq 1\n",
    "$$\n",
    "\n",
    "where:\n",
    "- $$ P_i $$ are the control points,\n",
    "- $$  \\binom{n}{i} $$ is the binomial coefficient, which can be computed as $$ binom{n}{i} = \\frac{n!}{i!(n - i)!} $$,\n",
    "- $$ t $$ is the parameter which varies between 0 and 1.\n",
    "\n",
    "## Linear Bézier Curve\n",
    "\n",
    "A linear Bézier curve is simply a straight line between two control points \\( P_0 \\) and \\( P_1 \\):\n",
    "\n",
    "$$\n",
    "B(t) = (1 - t)P_0 + tP_1\n",
    "$$\n",
    "\n",
    "## Quadratic Bézier Curve\n",
    "\n",
    "A quadratic Bézier curve is defined by three control points \\( P_0 \\), \\( P_1 \\), and \\( P_2 \\):\n",
    "\n",
    "$$\n",
    "B(t) = (1 - t)^2 P_0 + 2(1 - t)tP_1 + t^2 P_2\n",
    "$$\n",
    "\n",
    "## Cubic Bézier Curve\n",
    "\n",
    "A cubic Bézier curve is defined by four control points \\( P_0 \\), \\( P_1 \\), \\( P_2 \\), and \\( P_3 \\):\n",
    "\n",
    "$$\n",
    "B(t) = (1 - t)^3 P_0 + 3(1 - t)^2 tP_1 + 3(1 - t)t^2 P_2 + t^3 P_3\n",
    "$$\n"
   ]
  },
  {
   "cell_type": "code",
   "execution_count": 8,
   "id": "ca2aebf5-d66f-48e3-a69b-f55b9b8b6c67",
   "metadata": {},
   "outputs": [
    {
     "data": {
      "text/plain": [
       "array([[ 2, 12, 10],\n",
       "       [ 6,  8,  2]])"
      ]
     },
     "execution_count": 8,
     "metadata": {},
     "output_type": "execute_result"
    }
   ],
   "source": [
    "cp = np.array([[2,12,10],\n",
    "              [6,8,2]])\n",
    "cp"
   ]
  },
  {
   "cell_type": "code",
   "execution_count": 9,
   "id": "e9367afc-df3c-448c-af9c-f8651d08f22a",
   "metadata": {},
   "outputs": [],
   "source": [
    "def fact(n):\n",
    "    f = 1\n",
    "    if n == 0:\n",
    "        return 1\n",
    "    else:\n",
    "        for i in range(1,n+1):\n",
    "            f *= i\n",
    "    return f"
   ]
  },
  {
   "cell_type": "code",
   "execution_count": 10,
   "id": "8106a729-b9b2-4526-bf02-a62cae150c9c",
   "metadata": {},
   "outputs": [],
   "source": [
    "class Bezier_curve:\n",
    "    \n",
    "    def __init__(self):\n",
    "        self.x_y: np.ndarray\n",
    "        self.t = np.linspace(0,1,50).reshape(1,50)\n",
    "        self.curve: np.ndarray\n",
    "        \n",
    "    def generate_curve(self, x_y):\n",
    "        self.x_y = x_y\n",
    "        n = x_y.shape[0]\n",
    "        curve_points = np.full((2, 50), 0,dtype=float)\n",
    "        for i in range(n+1):\n",
    "            s = (fact(n)/(fact(i)*fact(n-i)))*((1-self.t)**i)*(self.t**(n-i)) \n",
    "            print(curve_points)\n",
    "            curve_points += self.x_y[:,[i]]*s.reshape(1,50)\n",
    "            \n",
    "        self.curve = curve_points\n",
    "        return self.curve\n",
    "        \n",
    "    def plot_bezier_curve(self):\n",
    "        plt.plot(self.curve[0],self.curve[1])\n",
    "        plt.plot(self.x_y[0],self.x_y[1])\n",
    "        plt.scatter(self.x_y[0],self.x_y[1])\n",
    "        plt.xticks(np.arange(0,self.x_y.max(),1))\n",
    "        plt.yticks(np.arange(0,self.x_y.max(),1))\n",
    "        \n",
    "        "
   ]
  },
  {
   "cell_type": "code",
   "execution_count": 11,
   "id": "ca1588e5-18f4-4df2-9408-28475f615863",
   "metadata": {},
   "outputs": [
    {
     "name": "stdout",
     "output_type": "stream",
     "text": [
      "[[0. 0. 0. 0. 0. 0. 0. 0. 0. 0. 0. 0. 0. 0. 0. 0. 0. 0. 0. 0. 0. 0. 0. 0.\n",
      "  0. 0. 0. 0. 0. 0. 0. 0. 0. 0. 0. 0. 0. 0. 0. 0. 0. 0. 0. 0. 0. 0. 0. 0.\n",
      "  0. 0.]\n",
      " [0. 0. 0. 0. 0. 0. 0. 0. 0. 0. 0. 0. 0. 0. 0. 0. 0. 0. 0. 0. 0. 0. 0. 0.\n",
      "  0. 0. 0. 0. 0. 0. 0. 0. 0. 0. 0. 0. 0. 0. 0. 0. 0. 0. 0. 0. 0. 0. 0. 0.\n",
      "  0. 0.]]\n",
      "[[0.00000000e+00 8.32986256e-04 3.33194502e-03 7.49687630e-03\n",
      "  1.33277801e-02 2.08246564e-02 2.99875052e-02 4.08163265e-02\n",
      "  5.33111204e-02 6.74718867e-02 8.32986256e-02 1.00791337e-01\n",
      "  1.19950021e-01 1.40774677e-01 1.63265306e-01 1.87421908e-01\n",
      "  2.13244481e-01 2.40733028e-01 2.69887547e-01 3.00708038e-01\n",
      "  3.33194502e-01 3.67346939e-01 4.03165348e-01 4.40649729e-01\n",
      "  4.79800083e-01 5.20616410e-01 5.63098709e-01 6.07246980e-01\n",
      "  6.53061224e-01 7.00541441e-01 7.49687630e-01 8.00499792e-01\n",
      "  8.52977926e-01 9.07122032e-01 9.62932112e-01 1.02040816e+00\n",
      "  1.07955019e+00 1.14035818e+00 1.20283215e+00 1.26697209e+00\n",
      "  1.33277801e+00 1.40024990e+00 1.46938776e+00 1.54019159e+00\n",
      "  1.61266139e+00 1.68679717e+00 1.76259892e+00 1.84006664e+00\n",
      "  1.91920033e+00 2.00000000e+00]\n",
      " [0.00000000e+00 2.49895877e-03 9.99583507e-03 2.24906289e-02\n",
      "  3.99833403e-02 6.24739692e-02 8.99625156e-02 1.22448980e-01\n",
      "  1.59933361e-01 2.02415660e-01 2.49895877e-01 3.02374011e-01\n",
      "  3.59850062e-01 4.22324032e-01 4.89795918e-01 5.62265723e-01\n",
      "  6.39733444e-01 7.22199084e-01 8.09662641e-01 9.02124115e-01\n",
      "  9.99583507e-01 1.10204082e+00 1.20949604e+00 1.32194919e+00\n",
      "  1.43940025e+00 1.56184923e+00 1.68929613e+00 1.82174094e+00\n",
      "  1.95918367e+00 2.10162432e+00 2.24906289e+00 2.40149938e+00\n",
      "  2.55893378e+00 2.72136610e+00 2.88879633e+00 3.06122449e+00\n",
      "  3.23865056e+00 3.42107455e+00 3.60849646e+00 3.80091628e+00\n",
      "  3.99833403e+00 4.20074969e+00 4.40816327e+00 4.62057476e+00\n",
      "  4.83798417e+00 5.06039150e+00 5.28779675e+00 5.52019992e+00\n",
      "  5.75760100e+00 6.00000000e+00]]\n",
      "[[0.         0.48063307 0.94294044 1.38692212 1.81257809 2.21990837\n",
      "  2.60891295 2.97959184 3.33194502 3.66597251 3.9816743  4.2790504\n",
      "  4.55810079 4.81882549 5.06122449 5.28529779 5.4910454  5.67846731\n",
      "  5.84756352 5.99833403 6.13077884 6.24489796 6.34069138 6.4181591\n",
      "  6.47730112 6.51811745 6.54060808 6.54477301 6.53061224 6.49812578\n",
      "  6.44731362 6.37817576 6.2907122  6.18492295 6.060808   5.91836735\n",
      "  5.757601   5.57850895 5.38109121 5.16534777 4.93127863 4.6788838\n",
      "  4.40816327 4.11911703 3.81174511 3.48604748 3.14202416 2.77967514\n",
      "  2.39900042 2.        ]\n",
      " [0.         0.32236568 0.6364015  0.94210746 1.23948355 1.52852978\n",
      "  1.80924615 2.08163265 2.3456893  2.60141608 2.84881299 3.08788005\n",
      "  3.31861724 3.54102457 3.75510204 3.96084965 4.15826739 4.34735527\n",
      "  4.52811329 4.70054144 4.86463973 5.02040816 5.16784673 5.30695544\n",
      "  5.43773428 5.56018326 5.67430237 5.78009163 5.87755102 5.96668055\n",
      "  6.04748022 6.11995002 6.18408996 6.23990004 6.28738026 6.32653061\n",
      "  6.3573511  6.37984173 6.3940025  6.3998334  6.39733444 6.38650562\n",
      "  6.36734694 6.33985839 6.30403998 6.25989171 6.20741358 6.14660558\n",
      "  6.07746772 6.        ]]\n"
     ]
    },
    {
     "data": {
      "text/plain": [
       "array([[10.        , 10.07663474, 10.14327364, 10.1999167 , 10.24656393,\n",
       "        10.28321533, 10.30987089, 10.32653061, 10.3331945 , 10.32986256,\n",
       "        10.31653478, 10.29321116, 10.25989171, 10.21657643, 10.16326531,\n",
       "        10.09995835, 10.02665556,  9.94335693,  9.85006247,  9.74677218,\n",
       "         9.63348605,  9.51020408,  9.37692628,  9.23365264,  9.08038317,\n",
       "         8.91711787,  8.74385673,  8.56059975,  8.36734694,  8.16409829,\n",
       "         7.95085381,  7.72761349,  7.49437734,  7.25114536,  6.99791753,\n",
       "         6.73469388,  6.46147439,  6.17825906,  5.8850479 ,  5.5818409 ,\n",
       "         5.26863807,  4.9454394 ,  4.6122449 ,  4.26905456,  3.91586839,\n",
       "         3.55268638,  3.17950854,  2.79633486,  2.40316535,  2.        ],\n",
       "       [ 2.        ,  2.24156601,  2.47646814,  2.70470637,  2.92628072,\n",
       "         3.14119117,  3.34943773,  3.55102041,  3.74593919,  3.93419409,\n",
       "         4.11578509,  4.2907122 ,  4.45897543,  4.62057476,  4.7755102 ,\n",
       "         4.92378176,  5.06538942,  5.20033319,  5.32861308,  5.45022907,\n",
       "         5.56518117,  5.67346939,  5.77509371,  5.87005414,  5.95835069,\n",
       "         6.03998334,  6.1149521 ,  6.18325698,  6.24489796,  6.29987505,\n",
       "         6.34818825,  6.38983757,  6.42482299,  6.45314452,  6.47480217,\n",
       "         6.48979592,  6.49812578,  6.49979175,  6.49479384,  6.48313203,\n",
       "         6.46480633,  6.43981674,  6.40816327,  6.3698459 ,  6.32486464,\n",
       "         6.27321949,  6.21491045,  6.14993753,  6.07830071,  6.        ]])"
      ]
     },
     "execution_count": 11,
     "metadata": {},
     "output_type": "execute_result"
    }
   ],
   "source": [
    "c = Bezier_curve()\n",
    "c.generate_curve(cp)"
   ]
  },
  {
   "cell_type": "code",
   "execution_count": 12,
   "id": "2c5553d9-58d3-4e26-bd44-f62ccb387619",
   "metadata": {},
   "outputs": [
    {
     "data": {
      "image/png": "[encoded data removed]",
      "text/plain": [
       "<Figure size 640x480 with 1 Axes>"
      ]
     },
     "metadata": {},
     "output_type": "display_data"
    }
   ],
   "source": [
    "c.plot_bezier_curve()"
   ]
  }
 ],
 "metadata": {
  "kernelspec": {
   "display_name": "Python 3 (ipykernel)",
   "language": "python",
   "name": "python3"
  },
  "language_info": {
   "codemirror_mode": {
    "name": "ipython",
    "version": 3
   },
   "file_extension": ".py",
   "mimetype": "text/x-python",
   "name": "python",
   "nbconvert_exporter": "python",
   "pygments_lexer": "ipython3",
   "version": "3.11.7"
  }
 },
 "nbformat": 4,
 "nbformat_minor": 5
}
